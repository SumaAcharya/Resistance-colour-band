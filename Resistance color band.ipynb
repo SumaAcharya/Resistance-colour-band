{
 "cells": [
  {
   "cell_type": "markdown",
   "id": "e2fed06e-899c-4fa3-92de-cfa1a44b6f25",
   "metadata": {},
   "source": [
    "# Resistor Colour Band Calulator"
   ]
  },
  {
   "cell_type": "code",
   "execution_count": 7,
   "id": "ccf686d3-032b-4e9d-b3af-fb18dc2359a2",
   "metadata": {},
   "outputs": [
    {
     "name": "stdin",
     "output_type": "stream",
     "text": [
      "Enter the 1st color: Red\n",
      "Enter the 2nd color: blue\n",
      "Enter the 3rd color: green\n"
     ]
    }
   ],
   "source": [
    "color=[\"black\",\"brown\",\"Red\",\"orange\",\"yellow\",\"green\",\"blue\",\"violet\",\"grey\", \"white\"]\n",
    "\n",
    "n=color.index((input(\"Enter the 1st color:\")))\n",
    "m=color.index((input(\"Enter the 2nd color:\")))\n",
    "p=color.index((input(\"Enter the 3rd color:\")))\n",
    "\n"
   ]
  },
  {
   "cell_type": "code",
   "execution_count": 19,
   "id": "c45ae01c-4ba2-4575-a5ec-ae6dc37d3f9e",
   "metadata": {},
   "outputs": [
    {
     "name": "stdin",
     "output_type": "stream",
     "text": [
      "Enter the 1st color: red\n",
      "Enter the 2nd color: blue\n",
      "Enter the 3rd color: yellow\n"
     ]
    },
    {
     "name": "stdout",
     "output_type": "stream",
     "text": [
      "\n",
      " The resister value = \n",
      "260000\n"
     ]
    }
   ],
   "source": [
    "color=[\"black\",\"brown\",\"red\",\"orange\",\"yellow\",\"green\",\"blue\",\"violet\",\"grey\", \"white\"]\n",
    "\n",
    "n=color.index((input(\"Enter the 1st color:\")))\n",
    "m=color.index((input(\"Enter the 2nd color:\")))\n",
    "p=color.index((input(\"Enter the 3rd color:\")))\n",
    "\n",
    "q=int(((n*10)+(m))*(10**(p)))\n",
    "\n",
    "print(\"\\n The resister value = \") \n",
    " \n",
    "#f-string used to add variables.\n",
    "\n",
    "print(f\"{q}\")\n"
   ]
  },
  {
   "cell_type": "code",
   "execution_count": null,
   "id": "5ce9e142-9daa-4636-ac2d-0ac4bb0b81a3",
   "metadata": {},
   "outputs": [],
   "source": []
  }
 ],
 "metadata": {
  "kernelspec": {
   "display_name": "Python 3 (ipykernel)",
   "language": "python",
   "name": "python3"
  },
  "language_info": {
   "codemirror_mode": {
    "name": "ipython",
    "version": 3
   },
   "file_extension": ".py",
   "mimetype": "text/x-python",
   "name": "python",
   "nbconvert_exporter": "python",
   "pygments_lexer": "ipython3",
   "version": "3.12.4"
  }
 },
 "nbformat": 4,
 "nbformat_minor": 5
}
